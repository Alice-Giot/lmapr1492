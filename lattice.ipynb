{
 "cells": [
  {
   "cell_type": "code",
   "execution_count": 2,
   "id": "danish-columbus",
   "metadata": {},
   "outputs": [],
   "source": [
    "from pymatgen.ext.matproj import MPRester\n",
    "from pymatgen import Lattice, Structure\n",
    "from pymatgen.symmetry.analyzer import SpacegroupAnalyzer"
   ]
  },
  {
   "cell_type": "code",
   "execution_count": 3,
   "id": "grateful-adrian",
   "metadata": {},
   "outputs": [],
   "source": [
    "#pour télécharger le ﬁchier CIF du matériau qui vous a été attribué\n",
    "with MPRester(\"WNdO6TZG8SzgeuFt\") as m:\n",
    "\n",
    "    # Structure for material id\n",
    "    structure = m.get_structure_by_material_id(\"mp-7988\")\n",
    "    \n",
    "\n",
    "structure.to(filename=\"Cs2O.cif\")"
   ]
  },
  {
   "cell_type": "code",
   "execution_count": 8,
   "id": "understanding-metro",
   "metadata": {},
   "outputs": [
    {
     "name": "stdout",
     "output_type": "stream",
     "text": [
      "vecteurs de base du réseau direct:  7.452531 -2.130771 0.000000\n",
      "7.452531 2.130771 0.000000\n",
      "6.843317 0.000000 3.639974\n",
      "vecteurs de base du réseau réciproque:  0.421547 -1.474392 -0.792528\n",
      "0.421547 1.474392 -0.792528\n",
      "0.000000 0.000000 1.726162\n",
      "type de maille:  rhombohedral\n",
      "Système cristallin:  trigonal\n",
      "groupe ponctuel:  -3m\n"
     ]
    }
   ],
   "source": [
    "struct = SpacegroupAnalyzer(structure)\n",
    "#pour déterminer les vecteurs de bases des ses réseaux direct et réciproque,\n",
    "res_dir = structure.lattice\n",
    "res_recip = structure.lattice.reciprocal_lattice\n",
    "\n",
    "#son type de maille,\n",
    "maille = struct.get_lattice_type()\n",
    "\n",
    "#son système cristallin, \n",
    "syst = struct.get_crystal_system()\n",
    "\n",
    "#ainsi que son groupe ponctuel.\n",
    "gr = struct.get_point_group_symbol()\n",
    "\n",
    "\n",
    "#Affiche les valeurs obtenues\n",
    "print(\"vecteurs de base du réseau direct: \", res_dir)\n",
    "print(\"vecteurs de base du réseau réciproque: \", res_recip)\n",
    "print(\"type de maille: \", maille)\n",
    "print(\"Système cristallin: \", syst)\n",
    "print(\"groupe ponctuel: \", gr)\n"
   ]
  },
  {
   "cell_type": "code",
   "execution_count": null,
   "id": "comparative-practitioner",
   "metadata": {},
   "outputs": [],
   "source": []
  }
 ],
 "metadata": {
  "kernelspec": {
   "display_name": "Python 3",
   "language": "python",
   "name": "python3"
  },
  "language_info": {
   "codemirror_mode": {
    "name": "ipython",
    "version": 3
   },
   "file_extension": ".py",
   "mimetype": "text/x-python",
   "name": "python",
   "nbconvert_exporter": "python",
   "pygments_lexer": "ipython3",
   "version": "3.6.8"
  }
 },
 "nbformat": 4,
 "nbformat_minor": 5
}
